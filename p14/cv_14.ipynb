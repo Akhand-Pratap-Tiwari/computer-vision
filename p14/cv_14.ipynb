{
 "cells": [
  {
   "cell_type": "markdown",
   "metadata": {},
   "source": [
    "# Gaussian Naive Bayes"
   ]
  },
  {
   "cell_type": "code",
   "execution_count": 22,
   "metadata": {},
   "outputs": [],
   "source": [
    "import pandas as pd\n",
    "from sklearn.model_selection import train_test_split\n",
    "from sklearn.naive_bayes import GaussianNB\n",
    "from sklearn.metrics import accuracy_score, confusion_matrix, ConfusionMatrixDisplay"
   ]
  },
  {
   "cell_type": "code",
   "execution_count": 23,
   "metadata": {},
   "outputs": [
    {
     "data": {
      "text/plain": [
       "(1461, 6)"
      ]
     },
     "execution_count": 23,
     "metadata": {},
     "output_type": "execute_result"
    }
   ],
   "source": [
    "data = pd.read_csv(\"seattle-weather.csv\")\n",
    "data.shape"
   ]
  },
  {
   "cell_type": "code",
   "execution_count": 24,
   "metadata": {},
   "outputs": [
    {
     "data": {
      "text/html": [
       "<div>\n",
       "<style scoped>\n",
       "    .dataframe tbody tr th:only-of-type {\n",
       "        vertical-align: middle;\n",
       "    }\n",
       "\n",
       "    .dataframe tbody tr th {\n",
       "        vertical-align: top;\n",
       "    }\n",
       "\n",
       "    .dataframe thead th {\n",
       "        text-align: right;\n",
       "    }\n",
       "</style>\n",
       "<table border=\"1\" class=\"dataframe\">\n",
       "  <thead>\n",
       "    <tr style=\"text-align: right;\">\n",
       "      <th></th>\n",
       "      <th>precipitation</th>\n",
       "      <th>temp_max</th>\n",
       "      <th>temp_min</th>\n",
       "      <th>wind</th>\n",
       "    </tr>\n",
       "  </thead>\n",
       "  <tbody>\n",
       "    <tr>\n",
       "      <th>count</th>\n",
       "      <td>1461.000000</td>\n",
       "      <td>1461.000000</td>\n",
       "      <td>1461.000000</td>\n",
       "      <td>1461.000000</td>\n",
       "    </tr>\n",
       "    <tr>\n",
       "      <th>mean</th>\n",
       "      <td>3.029432</td>\n",
       "      <td>16.439083</td>\n",
       "      <td>8.234771</td>\n",
       "      <td>3.241136</td>\n",
       "    </tr>\n",
       "    <tr>\n",
       "      <th>std</th>\n",
       "      <td>6.680194</td>\n",
       "      <td>7.349758</td>\n",
       "      <td>5.023004</td>\n",
       "      <td>1.437825</td>\n",
       "    </tr>\n",
       "    <tr>\n",
       "      <th>min</th>\n",
       "      <td>0.000000</td>\n",
       "      <td>-1.600000</td>\n",
       "      <td>-7.100000</td>\n",
       "      <td>0.400000</td>\n",
       "    </tr>\n",
       "    <tr>\n",
       "      <th>25%</th>\n",
       "      <td>0.000000</td>\n",
       "      <td>10.600000</td>\n",
       "      <td>4.400000</td>\n",
       "      <td>2.200000</td>\n",
       "    </tr>\n",
       "    <tr>\n",
       "      <th>50%</th>\n",
       "      <td>0.000000</td>\n",
       "      <td>15.600000</td>\n",
       "      <td>8.300000</td>\n",
       "      <td>3.000000</td>\n",
       "    </tr>\n",
       "    <tr>\n",
       "      <th>75%</th>\n",
       "      <td>2.800000</td>\n",
       "      <td>22.200000</td>\n",
       "      <td>12.200000</td>\n",
       "      <td>4.000000</td>\n",
       "    </tr>\n",
       "    <tr>\n",
       "      <th>max</th>\n",
       "      <td>55.900000</td>\n",
       "      <td>35.600000</td>\n",
       "      <td>18.300000</td>\n",
       "      <td>9.500000</td>\n",
       "    </tr>\n",
       "  </tbody>\n",
       "</table>\n",
       "</div>"
      ],
      "text/plain": [
       "       precipitation     temp_max     temp_min         wind\n",
       "count    1461.000000  1461.000000  1461.000000  1461.000000\n",
       "mean        3.029432    16.439083     8.234771     3.241136\n",
       "std         6.680194     7.349758     5.023004     1.437825\n",
       "min         0.000000    -1.600000    -7.100000     0.400000\n",
       "25%         0.000000    10.600000     4.400000     2.200000\n",
       "50%         0.000000    15.600000     8.300000     3.000000\n",
       "75%         2.800000    22.200000    12.200000     4.000000\n",
       "max        55.900000    35.600000    18.300000     9.500000"
      ]
     },
     "execution_count": 24,
     "metadata": {},
     "output_type": "execute_result"
    }
   ],
   "source": [
    "data.describe()"
   ]
  },
  {
   "cell_type": "code",
   "execution_count": 25,
   "metadata": {},
   "outputs": [
    {
     "data": {
      "text/plain": [
       "date             False\n",
       "precipitation    False\n",
       "temp_max         False\n",
       "temp_min         False\n",
       "wind             False\n",
       "weather          False\n",
       "dtype: bool"
      ]
     },
     "execution_count": 25,
     "metadata": {},
     "output_type": "execute_result"
    }
   ],
   "source": [
    "data.isnull().any()"
   ]
  },
  {
   "cell_type": "code",
   "execution_count": 26,
   "metadata": {},
   "outputs": [],
   "source": [
    "features = ['precipitation', 'temp_max', 'temp_min']\n",
    "x = data[features]\n",
    "y = data.iloc[:, 5]"
   ]
  },
  {
   "cell_type": "code",
   "execution_count": 27,
   "metadata": {},
   "outputs": [
    {
     "data": {
      "text/html": [
       "<div>\n",
       "<style scoped>\n",
       "    .dataframe tbody tr th:only-of-type {\n",
       "        vertical-align: middle;\n",
       "    }\n",
       "\n",
       "    .dataframe tbody tr th {\n",
       "        vertical-align: top;\n",
       "    }\n",
       "\n",
       "    .dataframe thead th {\n",
       "        text-align: right;\n",
       "    }\n",
       "</style>\n",
       "<table border=\"1\" class=\"dataframe\">\n",
       "  <thead>\n",
       "    <tr style=\"text-align: right;\">\n",
       "      <th></th>\n",
       "      <th>precipitation</th>\n",
       "      <th>temp_max</th>\n",
       "      <th>temp_min</th>\n",
       "    </tr>\n",
       "  </thead>\n",
       "  <tbody>\n",
       "    <tr>\n",
       "      <th>0</th>\n",
       "      <td>0.0</td>\n",
       "      <td>12.8</td>\n",
       "      <td>5.0</td>\n",
       "    </tr>\n",
       "    <tr>\n",
       "      <th>1</th>\n",
       "      <td>10.9</td>\n",
       "      <td>10.6</td>\n",
       "      <td>2.8</td>\n",
       "    </tr>\n",
       "    <tr>\n",
       "      <th>2</th>\n",
       "      <td>0.8</td>\n",
       "      <td>11.7</td>\n",
       "      <td>7.2</td>\n",
       "    </tr>\n",
       "    <tr>\n",
       "      <th>3</th>\n",
       "      <td>20.3</td>\n",
       "      <td>12.2</td>\n",
       "      <td>5.6</td>\n",
       "    </tr>\n",
       "    <tr>\n",
       "      <th>4</th>\n",
       "      <td>1.3</td>\n",
       "      <td>8.9</td>\n",
       "      <td>2.8</td>\n",
       "    </tr>\n",
       "  </tbody>\n",
       "</table>\n",
       "</div>"
      ],
      "text/plain": [
       "   precipitation  temp_max  temp_min\n",
       "0            0.0      12.8       5.0\n",
       "1           10.9      10.6       2.8\n",
       "2            0.8      11.7       7.2\n",
       "3           20.3      12.2       5.6\n",
       "4            1.3       8.9       2.8"
      ]
     },
     "execution_count": 27,
     "metadata": {},
     "output_type": "execute_result"
    }
   ],
   "source": [
    "x.head(5)"
   ]
  },
  {
   "cell_type": "code",
   "execution_count": 28,
   "metadata": {},
   "outputs": [
    {
     "data": {
      "text/plain": [
       "0       drizzle\n",
       "1          rain\n",
       "2          rain\n",
       "3          rain\n",
       "4          rain\n",
       "         ...   \n",
       "1456       rain\n",
       "1457       rain\n",
       "1458        fog\n",
       "1459        sun\n",
       "1460        sun\n",
       "Name: weather, Length: 1461, dtype: object"
      ]
     },
     "execution_count": 28,
     "metadata": {},
     "output_type": "execute_result"
    }
   ],
   "source": [
    "y"
   ]
  },
  {
   "cell_type": "code",
   "execution_count": 29,
   "metadata": {},
   "outputs": [],
   "source": [
    "x_train, x_test, y_train, y_test = train_test_split(x, y, test_size=0.3, stratify=y, random_state=0)"
   ]
  },
  {
   "cell_type": "code",
   "execution_count": 30,
   "metadata": {},
   "outputs": [
    {
     "data": {
      "text/plain": [
       "((1022, 3), (1022,), (439, 3), (439,))"
      ]
     },
     "execution_count": 30,
     "metadata": {},
     "output_type": "execute_result"
    }
   ],
   "source": [
    "x_train.shape, y_train.shape, x_test.shape, y_test.shape"
   ]
  },
  {
   "cell_type": "code",
   "execution_count": 31,
   "metadata": {},
   "outputs": [
    {
     "data": {
      "text/html": [
       "<style>#sk-container-id-2 {color: black;background-color: white;}#sk-container-id-2 pre{padding: 0;}#sk-container-id-2 div.sk-toggleable {background-color: white;}#sk-container-id-2 label.sk-toggleable__label {cursor: pointer;display: block;width: 100%;margin-bottom: 0;padding: 0.3em;box-sizing: border-box;text-align: center;}#sk-container-id-2 label.sk-toggleable__label-arrow:before {content: \"▸\";float: left;margin-right: 0.25em;color: #696969;}#sk-container-id-2 label.sk-toggleable__label-arrow:hover:before {color: black;}#sk-container-id-2 div.sk-estimator:hover label.sk-toggleable__label-arrow:before {color: black;}#sk-container-id-2 div.sk-toggleable__content {max-height: 0;max-width: 0;overflow: hidden;text-align: left;background-color: #f0f8ff;}#sk-container-id-2 div.sk-toggleable__content pre {margin: 0.2em;color: black;border-radius: 0.25em;background-color: #f0f8ff;}#sk-container-id-2 input.sk-toggleable__control:checked~div.sk-toggleable__content {max-height: 200px;max-width: 100%;overflow: auto;}#sk-container-id-2 input.sk-toggleable__control:checked~label.sk-toggleable__label-arrow:before {content: \"▾\";}#sk-container-id-2 div.sk-estimator input.sk-toggleable__control:checked~label.sk-toggleable__label {background-color: #d4ebff;}#sk-container-id-2 div.sk-label input.sk-toggleable__control:checked~label.sk-toggleable__label {background-color: #d4ebff;}#sk-container-id-2 input.sk-hidden--visually {border: 0;clip: rect(1px 1px 1px 1px);clip: rect(1px, 1px, 1px, 1px);height: 1px;margin: -1px;overflow: hidden;padding: 0;position: absolute;width: 1px;}#sk-container-id-2 div.sk-estimator {font-family: monospace;background-color: #f0f8ff;border: 1px dotted black;border-radius: 0.25em;box-sizing: border-box;margin-bottom: 0.5em;}#sk-container-id-2 div.sk-estimator:hover {background-color: #d4ebff;}#sk-container-id-2 div.sk-parallel-item::after {content: \"\";width: 100%;border-bottom: 1px solid gray;flex-grow: 1;}#sk-container-id-2 div.sk-label:hover label.sk-toggleable__label {background-color: #d4ebff;}#sk-container-id-2 div.sk-serial::before {content: \"\";position: absolute;border-left: 1px solid gray;box-sizing: border-box;top: 0;bottom: 0;left: 50%;z-index: 0;}#sk-container-id-2 div.sk-serial {display: flex;flex-direction: column;align-items: center;background-color: white;padding-right: 0.2em;padding-left: 0.2em;position: relative;}#sk-container-id-2 div.sk-item {position: relative;z-index: 1;}#sk-container-id-2 div.sk-parallel {display: flex;align-items: stretch;justify-content: center;background-color: white;position: relative;}#sk-container-id-2 div.sk-item::before, #sk-container-id-2 div.sk-parallel-item::before {content: \"\";position: absolute;border-left: 1px solid gray;box-sizing: border-box;top: 0;bottom: 0;left: 50%;z-index: -1;}#sk-container-id-2 div.sk-parallel-item {display: flex;flex-direction: column;z-index: 1;position: relative;background-color: white;}#sk-container-id-2 div.sk-parallel-item:first-child::after {align-self: flex-end;width: 50%;}#sk-container-id-2 div.sk-parallel-item:last-child::after {align-self: flex-start;width: 50%;}#sk-container-id-2 div.sk-parallel-item:only-child::after {width: 0;}#sk-container-id-2 div.sk-dashed-wrapped {border: 1px dashed gray;margin: 0 0.4em 0.5em 0.4em;box-sizing: border-box;padding-bottom: 0.4em;background-color: white;}#sk-container-id-2 div.sk-label label {font-family: monospace;font-weight: bold;display: inline-block;line-height: 1.2em;}#sk-container-id-2 div.sk-label-container {text-align: center;}#sk-container-id-2 div.sk-container {/* jupyter's `normalize.less` sets `[hidden] { display: none; }` but bootstrap.min.css set `[hidden] { display: none !important; }` so we also need the `!important` here to be able to override the default hidden behavior on the sphinx rendered scikit-learn.org. See: https://github.com/scikit-learn/scikit-learn/issues/21755 */display: inline-block !important;position: relative;}#sk-container-id-2 div.sk-text-repr-fallback {display: none;}</style><div id=\"sk-container-id-2\" class=\"sk-top-container\"><div class=\"sk-text-repr-fallback\"><pre>GaussianNB()</pre><b>In a Jupyter environment, please rerun this cell to show the HTML representation or trust the notebook. <br />On GitHub, the HTML representation is unable to render, please try loading this page with nbviewer.org.</b></div><div class=\"sk-container\" hidden><div class=\"sk-item\"><div class=\"sk-estimator sk-toggleable\"><input class=\"sk-toggleable__control sk-hidden--visually\" id=\"sk-estimator-id-2\" type=\"checkbox\" checked><label for=\"sk-estimator-id-2\" class=\"sk-toggleable__label sk-toggleable__label-arrow\">GaussianNB</label><div class=\"sk-toggleable__content\"><pre>GaussianNB()</pre></div></div></div></div></div>"
      ],
      "text/plain": [
       "GaussianNB()"
      ]
     },
     "execution_count": 31,
     "metadata": {},
     "output_type": "execute_result"
    }
   ],
   "source": [
    "naiveBayes = GaussianNB()\n",
    "naiveBayes.fit(x_train, y_train)"
   ]
  },
  {
   "cell_type": "code",
   "execution_count": 32,
   "metadata": {},
   "outputs": [
    {
     "data": {
      "text/plain": [
       "array(['rain', 'sun', 'rain', 'rain', 'rain', 'rain', 'rain', 'rain',\n",
       "       'rain', 'rain', 'rain', 'sun', 'sun', 'rain', 'sun', 'sun', 'sun',\n",
       "       'sun', 'sun', 'rain', 'rain', 'sun', 'sun', 'rain', 'rain', 'sun',\n",
       "       'sun', 'sun', 'rain', 'sun', 'rain', 'rain', 'sun', 'sun', 'rain',\n",
       "       'rain', 'rain', 'sun', 'sun', 'rain', 'sun', 'sun', 'rain', 'rain',\n",
       "       'sun', 'sun', 'rain', 'sun', 'rain', 'snow', 'sun', 'rain', 'sun',\n",
       "       'rain', 'sun', 'sun', 'sun', 'sun', 'sun', 'sun', 'rain', 'sun',\n",
       "       'rain', 'sun', 'rain', 'sun', 'rain', 'sun', 'sun', 'sun', 'sun',\n",
       "       'sun', 'sun', 'sun', 'sun', 'rain', 'rain', 'sun', 'sun', 'sun',\n",
       "       'sun', 'rain', 'rain', 'rain', 'sun', 'rain', 'sun', 'sun', 'sun',\n",
       "       'sun', 'sun', 'sun', 'sun', 'sun', 'sun', 'sun', 'rain', 'sun',\n",
       "       'rain', 'rain', 'sun', 'sun', 'rain', 'sun', 'sun', 'sun', 'sun',\n",
       "       'sun', 'rain', 'sun', 'sun', 'sun', 'sun', 'sun', 'sun', 'rain',\n",
       "       'sun', 'rain', 'sun', 'sun', 'sun', 'sun', 'sun', 'rain', 'sun',\n",
       "       'rain', 'rain', 'rain', 'sun', 'sun', 'sun', 'sun', 'sun', 'rain',\n",
       "       'sun', 'sun', 'sun', 'rain', 'sun', 'sun', 'rain', 'sun', 'rain',\n",
       "       'rain', 'rain', 'rain', 'rain', 'sun', 'rain', 'sun', 'sun', 'sun',\n",
       "       'rain', 'rain', 'sun', 'sun', 'sun', 'sun', 'snow', 'rain', 'rain',\n",
       "       'sun', 'sun', 'snow', 'rain', 'rain', 'drizzle', 'rain', 'sun',\n",
       "       'rain', 'sun', 'snow', 'sun', 'sun', 'rain', 'snow', 'rain', 'sun',\n",
       "       'sun', 'rain', 'sun', 'rain', 'rain', 'sun', 'rain', 'sun', 'rain',\n",
       "       'sun', 'sun', 'sun', 'rain', 'rain', 'sun', 'sun', 'rain', 'sun',\n",
       "       'sun', 'sun', 'sun', 'rain', 'rain', 'sun', 'sun', 'rain', 'rain',\n",
       "       'sun', 'rain', 'rain', 'sun', 'rain', 'sun', 'sun', 'rain', 'rain',\n",
       "       'sun', 'rain', 'sun', 'sun', 'sun', 'rain', 'sun', 'rain', 'sun',\n",
       "       'sun', 'rain', 'sun', 'sun', 'rain', 'rain', 'sun', 'sun', 'rain',\n",
       "       'rain', 'rain', 'sun', 'sun', 'sun', 'rain', 'sun', 'rain', 'sun',\n",
       "       'sun', 'sun', 'sun', 'sun', 'sun', 'rain', 'rain', 'sun', 'sun',\n",
       "       'rain', 'sun', 'rain', 'rain', 'rain', 'rain', 'sun', 'rain',\n",
       "       'rain', 'rain', 'rain', 'sun', 'sun', 'sun', 'sun', 'sun', 'sun',\n",
       "       'sun', 'sun', 'sun', 'sun', 'sun', 'sun', 'sun', 'rain', 'sun',\n",
       "       'sun', 'sun', 'rain', 'sun', 'sun', 'sun', 'sun', 'sun', 'sun',\n",
       "       'rain', 'rain', 'sun', 'sun', 'sun', 'rain', 'sun', 'rain', 'rain',\n",
       "       'sun', 'sun', 'rain', 'sun', 'sun', 'sun', 'rain', 'rain', 'rain',\n",
       "       'sun', 'sun', 'rain', 'sun', 'sun', 'sun', 'sun', 'sun', 'rain',\n",
       "       'sun', 'sun', 'rain', 'rain', 'rain', 'sun', 'rain', 'sun', 'rain',\n",
       "       'rain', 'rain', 'rain', 'rain', 'rain', 'sun', 'rain', 'sun',\n",
       "       'sun', 'snow', 'sun', 'rain', 'sun', 'sun', 'rain', 'sun', 'rain',\n",
       "       'sun', 'sun', 'sun', 'rain', 'snow', 'sun', 'sun', 'sun', 'rain',\n",
       "       'sun', 'sun', 'sun', 'sun', 'rain', 'sun', 'sun', 'sun', 'sun',\n",
       "       'rain', 'rain', 'rain', 'sun', 'rain', 'sun', 'sun', 'rain',\n",
       "       'rain', 'sun', 'rain', 'rain', 'sun', 'rain', 'rain', 'sun', 'sun',\n",
       "       'rain', 'sun', 'rain', 'sun', 'sun', 'rain', 'rain', 'sun', 'rain',\n",
       "       'sun', 'rain', 'sun', 'sun', 'rain', 'rain', 'rain', 'rain', 'sun',\n",
       "       'sun', 'rain', 'sun', 'rain', 'sun', 'rain', 'rain', 'sun', 'sun',\n",
       "       'rain', 'snow', 'sun', 'rain', 'rain', 'rain', 'sun', 'sun', 'sun',\n",
       "       'sun', 'sun', 'rain', 'sun', 'sun', 'snow', 'rain', 'rain', 'sun',\n",
       "       'rain', 'sun', 'sun', 'rain', 'rain', 'rain', 'sun', 'rain',\n",
       "       'rain', 'sun', 'sun', 'sun', 'rain', 'sun', 'rain', 'sun', 'sun',\n",
       "       'sun', 'rain', 'rain', 'sun'], dtype='<U7')"
      ]
     },
     "execution_count": 32,
     "metadata": {},
     "output_type": "execute_result"
    }
   ],
   "source": [
    "y_preds = naiveBayes.predict(x_test)\n",
    "y_preds"
   ]
  },
  {
   "cell_type": "code",
   "execution_count": 33,
   "metadata": {},
   "outputs": [
    {
     "name": "stdout",
     "output_type": "stream",
     "text": [
      "Training Score (Accuracy):  0.8414872798434442\n",
      "Testing Score (Accuracy):  0.8451025056947609\n"
     ]
    }
   ],
   "source": [
    "print(\"Training Score (Accuracy): \", accuracy_score(y_train, naiveBayes.predict(x_train)))\n",
    "print(\"Testing Score (Accuracy): \", accuracy_score(y_test, y_preds))"
   ]
  },
  {
   "cell_type": "code",
   "execution_count": 34,
   "metadata": {},
   "outputs": [
    {
     "data": {
      "text/plain": [
       "<sklearn.metrics._plot.confusion_matrix.ConfusionMatrixDisplay at 0x1a5fc652380>"
      ]
     },
     "execution_count": 34,
     "metadata": {},
     "output_type": "execute_result"
    },
    {
     "data": {
      "image/png": "[encoded data removed]",
      "text/plain": [
       "<Figure size 640x480 with 2 Axes>"
      ]
     },
     "metadata": {},
     "output_type": "display_data"
    }
   ],
   "source": [
    "confusion = confusion_matrix(y_test, y_preds, labels=naiveBayes.classes_)\n",
    "display = ConfusionMatrixDisplay(confusion_matrix=confusion, display_labels=naiveBayes.classes_)\n",
    "display.plot()"
   ]
  }
 ],
 "metadata": {
  "kernelspec": {
   "display_name": "Python 3",
   "language": "python",
   "name": "python3"
  },
  "language_info": {
   "codemirror_mode": {
    "name": "ipython",
    "version": 3
   },
   "file_extension": ".py",
   "mimetype": "text/x-python",
   "name": "python",
   "nbconvert_exporter": "python",
   "pygments_lexer": "ipython3",
   "version": "3.10.5"
  },
  "orig_nbformat": 4
 },
 "nbformat": 4,
 "nbformat_minor": 2
}
